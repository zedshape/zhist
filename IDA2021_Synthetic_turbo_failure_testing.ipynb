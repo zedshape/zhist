{
 "cells": [
  {
   "cell_type": "code",
   "execution_count": 1,
   "metadata": {},
   "outputs": [],
   "source": [
    "import pandas as pd\n",
    "import numpy as np\n",
    "from ZMiner import *\n",
    "from ZMinerD import *\n",
    "from utils import *\n",
    "import pickle"
   ]
  },
  {
   "cell_type": "code",
   "execution_count": 5,
   "metadata": {},
   "outputs": [
    {
     "name": "stderr",
     "output_type": "stream",
     "text": [
      "/home/dsv/zele5930/.local/lib/python3.6/site-packages/pandas/core/generic.py:3887: PerformanceWarning: dropping on a non-lexsorted multi-index without a level parameter may impact performance.\n",
      "  obj = obj._drop_axis(labels, axis, level=level, errors=errors)\n"
     ]
    }
   ],
   "source": [
    "data_loadtest = pd.read_excel(\"Synthetic_turbo_failure.xlsx\", header=[0, 1], index_col=0)\n",
    "data_copied = data_loadtest[['no','time','snap','date','status']]\n",
    "data_copied.columns = ['no','time','snap','date','status']\n",
    "a = data_loadtest.drop(['no','time','snap','date','status'], axis=1)\n",
    "a[['no','time','snap','date','status']] = data_copied\n",
    "\n",
    "# FOR MEMORY SPACE, REMOVE UNUSED VARIABLES\n",
    "del data_loadtest\n",
    "del data_copied"
   ]
  },
  {
   "cell_type": "code",
   "execution_count": 72,
   "metadata": {},
   "outputs": [],
   "source": [
    "def test(x):\n",
    "    #print(int(x['status']))\n",
    "    if int(x['status']) == 1:\n",
    "        x['no'] = int(x['no']) + 100\n",
    "    return x"
   ]
  },
  {
   "cell_type": "code",
   "execution_count": 74,
   "metadata": {},
   "outputs": [],
   "source": [
    "data_fixed = a.apply(test, axis=1)"
   ]
  },
  {
   "cell_type": "code",
   "execution_count": 76,
   "metadata": {
    "scrolled": true
   },
   "outputs": [
    {
     "name": "stderr",
     "output_type": "stream",
     "text": [
      "/home/dsv/zele5930/.local/lib/python3.6/site-packages/pandas/core/generic.py:3887: PerformanceWarning: dropping on a non-lexsorted multi-index without a level parameter may impact performance.\n",
      "  obj = obj._drop_axis(labels, axis, level=level, errors=errors)\n"
     ]
    }
   ],
   "source": [
    "z = ZHist(a, ['no','time','snap','date','status'])"
   ]
  },
  {
   "cell_type": "code",
   "execution_count": 77,
   "metadata": {},
   "outputs": [
    {
     "name": "stdout",
     "output_type": "stream",
     "text": [
      "getWeightedAverage: 0.8265478519606404\n",
      "interval creation started\n",
      "current: A\n",
      "current: B\n",
      "current: C\n",
      "current: D\n",
      "current: E\n",
      "current: F\n",
      "current: G\n",
      "current: H\n",
      "current: I\n",
      "current: J\n",
      "interval creation is done\n",
      "interval separation started\n",
      "interval separation is done\n"
     ]
    }
   ],
   "source": [
    "z.fit()"
   ]
  },
  {
   "cell_type": "code",
   "execution_count": 78,
   "metadata": {},
   "outputs": [
    {
     "name": "stdout",
     "output_type": "stream",
     "text": [
      "########## Z-MINER ##########\n",
      "1-1. MINIMUM SUPPORT: 10.0\n",
      "1-2. EPSILON CONSTRAINT: 0.0\n",
      "1-3. GAP CONSTRAINT: 1000.0\n",
      "1-4. TIMEOUT: 2000000000\n",
      "1-5. LEVEL: inf\n",
      "2. NUMBER OF E-SEQUENCES: 100\n",
      "3. TOTAL COMPARISON COUNTS: 1265266093\n",
      "4. TOTAL FREQUENT ARRANGEMENTS: 2200404\n",
      "5. TOTAL TIME CONSUMED: 13103.802275931\n"
     ]
    }
   ],
   "source": [
    "database = Database(z.repair_intervals_removed)\n",
    "constraints = makeConstraints([0.1, 0, 1000], z.repair_intervals_removed)\n",
    "algorithm = ZMiner(database, constraints, forgettable=True)\n",
    "algorithm.constraints[\"timeoutseconds\"] = 2000000000\n",
    "count, freq, timedelta, timeout, FL_repair = algorithm.ZMiner()"
   ]
  },
  {
   "cell_type": "code",
   "execution_count": 79,
   "metadata": {},
   "outputs": [
    {
     "name": "stdout",
     "output_type": "stream",
     "text": [
      "########## Z-MINER ##########\n",
      "1-1. MINIMUM SUPPORT: 0.0\n",
      "1-2. EPSILON CONSTRAINT: 0.0\n",
      "1-3. GAP CONSTRAINT: 1000.0\n",
      "1-4. TIMEOUT: 200000000\n",
      "2. NUMBER OF E-SEQUENCES: 900\n",
      "3. TOTAL COMPARISON COUNTS: 139027750\n",
      "4. TOTAL FREQUENT ARRANGEMENTS: 280255\n",
      "5. TOTAL TIME CONSUMED: 1842.009999425998\n"
     ]
    }
   ],
   "source": [
    "database2 = Database(z.normal_intervals_removed)\n",
    "constraints2 = makeConstraints([0, 0, 1000], z.normal_intervals_removed)\n",
    "algorithm2 = ZMinerD(database2, constraints2, FL_repair, forgettable=True)\n",
    "algorithm2.constraints[\"timeoutseconds\"] = 200000000\n",
    "coun2t, freq2, tdelta2, timeout2, FL_normal = algorithm2.ZMiner()"
   ]
  },
  {
   "cell_type": "markdown",
   "metadata": {},
   "source": [
    "Change some format for csv save"
   ]
  },
  {
   "cell_type": "code",
   "execution_count": 80,
   "metadata": {},
   "outputs": [],
   "source": [
    "for j in FL_normal[2]:\n",
    "    for k in FL_normal[2][j]:\n",
    "        FL_normal[2][j][k] = len(FL_normal[2][j][k])\n",
    "        \n",
    "for j in FL_repair[2]:\n",
    "    for k in FL_repair[2][j]:\n",
    "        FL_repair[2][j][k] = len(FL_repair[2][j][k])"
   ]
  },
  {
   "cell_type": "code",
   "execution_count": 81,
   "metadata": {},
   "outputs": [],
   "source": [
    "def exportDisprop(dataname, FL1, FL2, n1, n2, constraints):\n",
    "    filename = (\n",
    "        \"Disprop\"\n",
    "        + \"_\"\n",
    "        + dataname\n",
    "        + \"_\"\n",
    "        + str(constraints[\"minSupPercent\"])\n",
    "        + \"_\"\n",
    "        + str(constraints[\"epsilon\"])\n",
    "        + \"_\"\n",
    "        + str(constraints[\"gap\"])\n",
    "        + \"_\"\n",
    "        + str(constraints[\"timeoutseconds\"])\n",
    "        + \".csv\"\n",
    "    )\n",
    "    F = []\n",
    "    for k in FL1:\n",
    "        for E in FL1[k]:\n",
    "            for R in FL1[k][E]:\n",
    "                if k not in FL2 or E not in FL2[k] or R not in FL2[k][E]:\n",
    "                    F.append({\"events\": E, \"relations\": R, \"freq1\": FL1[k][E][R], \"freq2\": 0,\n",
    "                    \"relSup1\": (FL1[k][E][R]+1)/(n1+1), \"relSup2\": 0,\n",
    "                    \"disprop\": (((FL1[k][E][R])+1)/(n1+1))/(1/(n2+1))})\n",
    "                else:\n",
    "                    F.append({\"events\": E, \"relations\": R, \"freq1\": FL1[k][E][R], \"freq2\": FL2[k][E][R],\n",
    "                    \"relSup1\": (FL1[k][E][R]+1)/(n1+1), \"relSup2\": (FL2[k][E][R]+1)/(n2+1),\n",
    "                    \"disprop\": ((FL1[k][E][R]+1)/(n1+1))/((FL2[k][E][R]+1)/(n2+1))})\n",
    "\n",
    "    with open(filename, \"w\") as output_file:\n",
    "        dict_writer = csv.DictWriter(output_file, [\"events\", \"relations\", \"freq1\", \"freq2\", \"relSup1\", \"relSup2\", \"disprop\"])\n",
    "        dict_writer.writeheader()\n",
    "        dict_writer.writerows(F)\n",
    "    return filename"
   ]
  },
  {
   "cell_type": "code",
   "execution_count": 82,
   "metadata": {},
   "outputs": [
    {
     "data": {
      "text/plain": [
       "'Disprop_resultWithTrendWithMatrix_syn_turbo_failure_v2_0.0_0.0_1000.0_200000000.csv'"
      ]
     },
     "execution_count": 82,
     "metadata": {},
     "output_type": "execute_result"
    }
   ],
   "source": [
    "# exportF(\"result1_wholecar\", FL_repair, constraints)\n",
    "exportDisprop(\"resultWithTrendWithMatrix_syn_SCANIA_v2\", FL_repair, FL_normal, 100, 1000, constraints2)"
   ]
  }
 ],
 "metadata": {
  "kernelspec": {
   "display_name": "Python 3",
   "language": "python",
   "name": "python3"
  },
  "language_info": {
   "codemirror_mode": {
    "name": "ipython",
    "version": 3
   },
   "file_extension": ".py",
   "mimetype": "text/x-python",
   "name": "python",
   "nbconvert_exporter": "python",
   "pygments_lexer": "ipython3",
   "version": "3.6.9"
  }
 },
 "nbformat": 4,
 "nbformat_minor": 4
}
